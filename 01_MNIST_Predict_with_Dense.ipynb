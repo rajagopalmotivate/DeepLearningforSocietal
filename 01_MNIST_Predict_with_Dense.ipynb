{
  "nbformat": 4,
  "nbformat_minor": 0,
  "metadata": {
    "colab": {
      "name": "1. MNIST Predict with Dense.ipynb",
      "provenance": [],
      "toc_visible": true,
      "include_colab_link": true
    },
    "kernelspec": {
      "name": "python3",
      "display_name": "Python 3"
    }
  },
  "cells": [
    {
      "cell_type": "markdown",
      "metadata": {
        "id": "view-in-github",
        "colab_type": "text"
      },
      "source": [
        "<a href=\"https://colab.research.google.com/github/rajagopalmotivate/DeepLearningforSocietal/blob/main/01_MNIST_Predict_with_Dense.ipynb\" target=\"_parent\"><img src=\"https://colab.research.google.com/assets/colab-badge.svg\" alt=\"Open In Colab\"/></a>"
      ]
    },
    {
      "metadata": {
        "id": "GcGASTOTWmux"
      },
      "cell_type": "markdown",
      "source": [
        "# *My Deep Learning Jump start Project No. 1*"
      ]
    },
    {
      "metadata": {
        "id": "ih46rSIMUSxp"
      },
      "cell_type": "markdown",
      "source": [
        "# My 1st Deep Learning experiement. G\n",
        "##Given an image (digit), predict what class this image belongs.\n",
        "### X is 28x28 image , Y is a label (can be any digit between 0 to 9)\n",
        "\n",
        "# My name:"
      ]
    },
    {
      "metadata": {
        "id": "513c4ViDVSZ0"
      },
      "cell_type": "markdown",
      "source": [
        "##Here are my steps\n",
        "###Step 1: Define the Problem and Collect data, Load the collected data, Visuvalize it\n",
        "###Step 2: Prepare the data (vectorize, reshape, normalize, OHE)\n",
        "###Step 3: Define the network architecture\n",
        "###Step 4: Define the metrics, optimizers, loss function, and Complie the model\n",
        "###Step 5: Train the network\n",
        "###Step 6: Evaluate the network, Iterate to improve the model\n",
        "###Step 7: Predict"
      ]
    },
    {
      "metadata": {
        "id": "l_ptIb6CEon5"
      },
      "cell_type": "code",
      "source": [
        "from keras.datasets import mnist\n",
        "from keras import models\n",
        "from keras import layers\n",
        "#from keras.utils import to_categorical\n",
        "from matplotlib import pyplot\n",
        "#from keras.utils import plot_model\n",
        "from IPython.display import Image\n",
        "import tensorflow as tf\n"
      ],
      "execution_count": 1,
      "outputs": []
    },
    {
      "metadata": {
        "id": "xX7Iz4NDYAaV"
      },
      "cell_type": "markdown",
      "source": [
        "\n",
        "# 1. Download the MNIST dataset, and load it into 4 variables\n",
        "```\n",
        "(trainX, trainY), (testX, testY) = mnist.load_data()\n",
        "\n",
        "```\n",
        "##Tip 1.  aKerasDataset. load_data(): This method returns 4 variables\n",
        "\n",
        "##Tip 2.  type(myObject) : Use this to find the type of object\n",
        "          (e.g. is it a interger, array)\n",
        "\n",
        "##Tip 3.  myArrary.shape returns the size of the array.\n",
        "            1 D array of 10 elements will be (10).              \n",
        "            2 D array will be (8, 8).\n",
        "\n",
        "\n",
        "\n"
      ]
    },
    {
      "metadata": {
        "id": "OhDD1Wx1EtyT",
        "colab": {
          "base_uri": "https://localhost:8080/"
        },
        "outputId": "5d04cdde-8000-40dd-e936-0a3454d47c8c"
      },
      "cell_type": "code",
      "source": [
        "#Step 1: Load the collected data, Visuvalize it\n",
        "\n",
        "(trainX, trainY), (testX, testY) = mnist.load_data()\n",
        "\n",
        "\n",
        "print('The type of object is ..')\n",
        "print(type(trainX))\n",
        "\n",
        "numberofTrainingsamples = trainX.shape[0]\n",
        "print(\"number of Training samples = \" + str(numberofTrainingsamples))\n",
        "\n",
        "print( \"Shape of trainX: \"+ str(trainX.shape) + \".   Shape of trainY\" + str( trainY.shape))\n",
        "print( \"Shape of testX: \"+ str(testX.shape) )\n",
        "\n",
        "\n",
        "print(\"number of Test samples = \" + str(testX.shape[0]))\n",
        "\n"
      ],
      "execution_count": 2,
      "outputs": [
        {
          "output_type": "stream",
          "name": "stdout",
          "text": [
            "Downloading data from https://storage.googleapis.com/tensorflow/tf-keras-datasets/mnist.npz\n",
            "11490434/11490434 [==============================] - 1s 0us/step\n",
            "The type of object is ..\n",
            "<class 'numpy.ndarray'>\n",
            "number of Training samples = 60000\n",
            "Shape of trainX: (60000, 28, 28).   Shape of trainY(60000,)\n",
            "Shape of testX: (10000, 28, 28)\n",
            "number of Test samples = 10000\n"
          ]
        }
      ]
    },
    {
      "metadata": {
        "id": "m-4-m8pybmqi"
      },
      "cell_type": "markdown",
      "source": [
        "#2. Visuvalize one of the elements of the dataset"
      ]
    },
    {
      "metadata": {
        "id": "tqcmxJs4E_D9",
        "colab": {
          "base_uri": "https://localhost:8080/",
          "height": 484
        },
        "outputId": "7cb5c732-4933-487f-a3ef-4f869e1df414"
      },
      "cell_type": "code",
      "source": [
        "print(\"TrainY [76] is labels as = \" + str(trainY[76]))\n",
        "print(\"TrainX [76] is a image and looks like this...\")\n",
        "pyplot.imshow(trainX[76])\n",
        "pyplot.show()\n",
        "print( \"Shape of this image is \"+ str(trainX[76].shape) )\n",
        "\n"
      ],
      "execution_count": 3,
      "outputs": [
        {
          "output_type": "stream",
          "name": "stdout",
          "text": [
            "TrainY [76] is labels as = 2\n",
            "TrainX [76] is a image and looks like this...\n"
          ]
        },
        {
          "output_type": "display_data",
          "data": {
            "text/plain": [
              "<Figure size 640x480 with 1 Axes>"
            ],
            "image/png": "[encoded data removed]"
          },
          "metadata": {}
        },
        {
          "output_type": "stream",
          "name": "stdout",
          "text": [
            "Shape of this image is (28, 28)\n"
          ]
        }
      ]
    },
    {
      "metadata": {
        "id": "ovoUonr4b2as"
      },
      "cell_type": "markdown",
      "source": [
        "# 2.a Normalize values by dividing by 255\n",
        "\n",
        "Check the values of the arrary before and after dividing it by 255. We divide to normalize the values between 0 and 1\n",
        "\n",
        "## Tip 1: matplotlib.pyplot.imshow(myArray): Use this to plot an array as a image\n"
      ]
    },
    {
      "metadata": {
        "id": "Elycn3tZFbs1",
        "colab": {
          "base_uri": "https://localhost:8080/",
          "height": 1000
        },
        "outputId": "c49d8ce2-22ff-4e88-99d5-45ba75c7c3a3"
      },
      "cell_type": "code",
      "source": [
        "print(\"TrainY [1000] is labels as = \" + str(trainY[1000]))\n",
        "print(\"TrainX [1000] is a image and looks like this...\")\n",
        "pyplot.imshow(trainX[1000])\n",
        "pyplot.show()\n",
        "print( \"Shape of this image is \"+ str(trainX[1000].shape) )\n",
        "print(\"This is a 2 dimensional array and its value is\")\n",
        "print(trainX[1000])\n",
        "\n"
      ],
      "execution_count": 4,
      "outputs": [
        {
          "output_type": "stream",
          "name": "stdout",
          "text": [
            "TrainY [1000] is labels as = 0\n",
            "TrainX [1000] is a image and looks like this...\n"
          ]
        },
        {
          "output_type": "display_data",
          "data": {
            "text/plain": [
              "<Figure size 640x480 with 1 Axes>"
            ],
            "image/png": "[encoded data removed]"
          },
          "metadata": {}
        },
        {
          "output_type": "stream",
          "name": "stdout",
          "text": [
            "Shape of this image is (28, 28)\n",
            "This is a 2 dimensional array and its value is\n",
            "[[  0   0   0   0   0   0   0   0   0   0   0   0   0   0   0   0   0   0\n",
            "    0   0   0   0   0   0   0   0   0   0]\n",
            " [  0   0   0   0   0   0   0   0   0   0   0   0   0   0   0   0   0   0\n",
            "    0   0   0   0   0   0   0   0   0   0]\n",
            " [  0   0   0   0   0   0   0   0   0   0   0   0   0   0   0   0   0   0\n",
            "    0   0   0   0   0   0   0   0   0   0]\n",
            " [  0   0   0   0   0   0   0   0   0   0   0   0   0   0   0   0   0   0\n",
            "    0   0   0   0   0   0   0   0   0   0]\n",
            " [  0   0   0   0   0   0   0   0   0   0   0   0   0   0   0   0   0   0\n",
            "    0   0   0   0   0   0   0   0   0   0]\n",
            " [  0   0   0   0   0   0   0   0   0   0   0   0   0   0  36 146 254 255\n",
            "  251  95   6   0   0   0   0   0   0   0]\n",
            " [  0   0   0   0   0   0   0   0   0   0   0   0   3  97 234 254 254 232\n",
            "  254 254  35   0   0   0   0   0   0   0]\n",
            " [  0   0   0   0   0   0   0   0   0   0   0  89 140 254 254 174  67  33\n",
            "  200 254 190   0   0   0   0   0   0   0]\n",
            " [  0   0   0   0   0   0   0   0   0   0 108 253 254 235  51   1   0   0\n",
            "   12 254 253  56   0   0   0   0   0   0]\n",
            " [  0   0   0   0   0   0   0   0   0  12 216 254 244  55   0   0   0   0\n",
            "    6 213 254  57   0   0   0   0   0   0]\n",
            " [  0   0   0   0   0   0   0   0   0  25 254 254 132   0   0   0   0   0\n",
            "    0 168 254  57   0   0   0   0   0   0]\n",
            " [  0   0   0   0   0   0   0   0   0  45 254 243  34   0   0   0   0   0\n",
            "    0 168 254  57   0   0   0   0   0   0]\n",
            " [  0   0   0   0   0   0   0   0   0 128 254 157   0   0   0   0   0   0\n",
            "    0 168 254  57   0   0   0   0   0   0]\n",
            " [  0   0   0   0   0   0   0   0  19 228 254 105   0   0   0   0   0   0\n",
            "    7 228 254  57   0   0   0   0   0   0]\n",
            " [  0   0   0   0   0   0   0   0  58 254 254  87   0   0   0   0   0   0\n",
            "   10 254 246  47   0   0   0   0   0   0]\n",
            " [  0   0   0   0   0   0   0   0  58 254 254   9   0   0   0   0   0   0\n",
            "   10 254 210   0   0   0   0   0   0   0]\n",
            " [  0   0   0   0   0   0   0   0  58 254 254   9   0   0   0   0   0   0\n",
            "  105 254  91   0   0   0   0   0   0   0]\n",
            " [  0   0   0   0   0   0   0   0   5 219 254   9   0   0   0   0   0  24\n",
            "  230 254  24   0   0   0   0   0   0   0]\n",
            " [  0   0   0   0   0   0   0   0   0 216 254   9   0   0   0   0   0  84\n",
            "  254 251  23   0   0   0   0   0   0   0]\n",
            " [  0   0   0   0   0   0   0   0   0 216 254  36   0   0   0   0  22 208\n",
            "  251  94   0   0   0   0   0   0   0   0]\n",
            " [  0   0   0   0   0   0   0   0   0 129 254 120   0   0   0   3 140 254\n",
            "  229   0   0   0   0   0   0   0   0   0]\n",
            " [  0   0   0   0   0   0   0   0   0  83 254 222  17   0   0  91 254 236\n",
            "   53   0   0   0   0   0   0   0   0   0]\n",
            " [  0   0   0   0   0   0   0   0   0  18 235 254 134  21 119 237 254 124\n",
            "    0   0   0   0   0   0   0   0   0   0]\n",
            " [  0   0   0   0   0   0   0   0   0   0  53 249 254 234 252 254 172   3\n",
            "    0   0   0   0   0   0   0   0   0   0]\n",
            " [  0   0   0   0   0   0   0   0   0   0   0 116 237 254 254 133  20   0\n",
            "    0   0   0   0   0   0   0   0   0   0]\n",
            " [  0   0   0   0   0   0   0   0   0   0   0   0   0   0   0   0   0   0\n",
            "    0   0   0   0   0   0   0   0   0   0]\n",
            " [  0   0   0   0   0   0   0   0   0   0   0   0   0   0   0   0   0   0\n",
            "    0   0   0   0   0   0   0   0   0   0]\n",
            " [  0   0   0   0   0   0   0   0   0   0   0   0   0   0   0   0   0   0\n",
            "    0   0   0   0   0   0   0   0   0   0]]\n"
          ]
        }
      ]
    },
    {
      "metadata": {
        "id": "CpHaNznyHwYd",
        "colab": {
          "base_uri": "https://localhost:8080/"
        },
        "outputId": "177a5a5c-c35c-431b-fefa-de26f747871a"
      },
      "cell_type": "code",
      "source": [
        "#Step 2: Prepare the data (vectorize, reshape, normalize, OHE)\n",
        "\n",
        "print(\"trainY: \"+ str(trainY[2]))\n",
        "trainYready = tf.keras.utils.to_categorical(trainY)\n",
        "print(\"trainYOHE: \"+ str(trainYready[2]))\n",
        "testYready = tf.keras.utils.to_categorical(testY)\n",
        "\n"
      ],
      "execution_count": 5,
      "outputs": [
        {
          "output_type": "stream",
          "name": "stdout",
          "text": [
            "trainY: 4\n",
            "trainYOHE: [0. 0. 0. 0. 1. 0. 0. 0. 0. 0.]\n"
          ]
        }
      ]
    },
    {
      "metadata": {
        "id": "KKzam6YSKIb5"
      },
      "cell_type": "code",
      "source": [
        "\n",
        "trainXnormalized =  trainX.astype('float32') / 255\n",
        "\n",
        "testXnormalized = testX.astype('float32')/ 255"
      ],
      "execution_count": 6,
      "outputs": []
    },
    {
      "metadata": {
        "id": "pcaALZqmICjB",
        "colab": {
          "base_uri": "https://localhost:8080/",
          "height": 1000
        },
        "outputId": "cdb06987-7b7b-4c46-9f9f-b744b6cad2ac"
      },
      "cell_type": "code",
      "source": [
        "print(\"trainXready [1000] is a image and looks like this...\")\n",
        "pyplot.imshow(trainXnormalized[1000])\n",
        "pyplot.show()\n",
        "print( \"Shape of this image is \"+ str(trainXnormalized[1000].shape) )\n",
        "print(\"This is a 2 dimensional array and its value is\")\n",
        "print(trainXnormalized[1000])\n",
        "\n"
      ],
      "execution_count": 7,
      "outputs": [
        {
          "output_type": "stream",
          "name": "stdout",
          "text": [
            "trainXready [1000] is a image and looks like this...\n"
          ]
        },
        {
          "output_type": "display_data",
          "data": {
            "text/plain": [
              "<Figure size 640x480 with 1 Axes>"
            ],
            "image/png": "[encoded data removed]"
          },
          "metadata": {}
        },
        {
          "output_type": "stream",
          "name": "stdout",
          "text": [
            "Shape of this image is (28, 28)\n",
            "This is a 2 dimensional array and its value is\n",
            "[[0.         0.         0.         0.         0.         0.\n",
            "  0.         0.         0.         0.         0.         0.\n",
            "  0.         0.         0.         0.         0.         0.\n",
            "  0.         0.         0.         0.         0.         0.\n",
            "  0.         0.         0.         0.        ]\n",
            " [0.         0.         0.         0.         0.         0.\n",
            "  0.         0.         0.         0.         0.         0.\n",
            "  0.         0.         0.         0.         0.         0.\n",
            "  0.         0.         0.         0.         0.         0.\n",
            "  0.         0.         0.         0.        ]\n",
            " [0.         0.         0.         0.         0.         0.\n",
            "  0.         0.         0.         0.         0.         0.\n",
            "  0.         0.         0.         0.         0.         0.\n",
            "  0.         0.         0.         0.         0.         0.\n",
            "  0.         0.         0.         0.        ]\n",
            " [0.         0.         0.         0.         0.         0.\n",
            "  0.         0.         0.         0.         0.         0.\n",
            "  0.         0.         0.         0.         0.         0.\n",
            "  0.         0.         0.         0.         0.         0.\n",
            "  0.         0.         0.         0.        ]\n",
            " [0.         0.         0.         0.         0.         0.\n",
            "  0.         0.         0.         0.         0.         0.\n",
            "  0.         0.         0.         0.         0.         0.\n",
            "  0.         0.         0.         0.         0.         0.\n",
            "  0.         0.         0.         0.        ]\n",
            " [0.         0.         0.         0.         0.         0.\n",
            "  0.         0.         0.         0.         0.         0.\n",
            "  0.         0.         0.14117648 0.57254905 0.99607843 1.\n",
            "  0.9843137  0.37254903 0.02352941 0.         0.         0.\n",
            "  0.         0.         0.         0.        ]\n",
            " [0.         0.         0.         0.         0.         0.\n",
            "  0.         0.         0.         0.         0.         0.\n",
            "  0.01176471 0.38039216 0.91764706 0.99607843 0.99607843 0.9098039\n",
            "  0.99607843 0.99607843 0.13725491 0.         0.         0.\n",
            "  0.         0.         0.         0.        ]\n",
            " [0.         0.         0.         0.         0.         0.\n",
            "  0.         0.         0.         0.         0.         0.34901962\n",
            "  0.54901963 0.99607843 0.99607843 0.68235296 0.2627451  0.12941177\n",
            "  0.78431374 0.99607843 0.74509805 0.         0.         0.\n",
            "  0.         0.         0.         0.        ]\n",
            " [0.         0.         0.         0.         0.         0.\n",
            "  0.         0.         0.         0.         0.42352942 0.99215686\n",
            "  0.99607843 0.92156863 0.2        0.00392157 0.         0.\n",
            "  0.04705882 0.99607843 0.99215686 0.21960784 0.         0.\n",
            "  0.         0.         0.         0.        ]\n",
            " [0.         0.         0.         0.         0.         0.\n",
            "  0.         0.         0.         0.04705882 0.84705883 0.99607843\n",
            "  0.95686275 0.21568628 0.         0.         0.         0.\n",
            "  0.02352941 0.8352941  0.99607843 0.22352941 0.         0.\n",
            "  0.         0.         0.         0.        ]\n",
            " [0.         0.         0.         0.         0.         0.\n",
            "  0.         0.         0.         0.09803922 0.99607843 0.99607843\n",
            "  0.5176471  0.         0.         0.         0.         0.\n",
            "  0.         0.65882355 0.99607843 0.22352941 0.         0.\n",
            "  0.         0.         0.         0.        ]\n",
            " [0.         0.         0.         0.         0.         0.\n",
            "  0.         0.         0.         0.1764706  0.99607843 0.9529412\n",
            "  0.13333334 0.         0.         0.         0.         0.\n",
            "  0.         0.65882355 0.99607843 0.22352941 0.         0.\n",
            "  0.         0.         0.         0.        ]\n",
            " [0.         0.         0.         0.         0.         0.\n",
            "  0.         0.         0.         0.5019608  0.99607843 0.6156863\n",
            "  0.         0.         0.         0.         0.         0.\n",
            "  0.         0.65882355 0.99607843 0.22352941 0.         0.\n",
            "  0.         0.         0.         0.        ]\n",
            " [0.         0.         0.         0.         0.         0.\n",
            "  0.         0.         0.07450981 0.89411765 0.99607843 0.4117647\n",
            "  0.         0.         0.         0.         0.         0.\n",
            "  0.02745098 0.89411765 0.99607843 0.22352941 0.         0.\n",
            "  0.         0.         0.         0.        ]\n",
            " [0.         0.         0.         0.         0.         0.\n",
            "  0.         0.         0.22745098 0.99607843 0.99607843 0.34117648\n",
            "  0.         0.         0.         0.         0.         0.\n",
            "  0.03921569 0.99607843 0.9647059  0.18431373 0.         0.\n",
            "  0.         0.         0.         0.        ]\n",
            " [0.         0.         0.         0.         0.         0.\n",
            "  0.         0.         0.22745098 0.99607843 0.99607843 0.03529412\n",
            "  0.         0.         0.         0.         0.         0.\n",
            "  0.03921569 0.99607843 0.8235294  0.         0.         0.\n",
            "  0.         0.         0.         0.        ]\n",
            " [0.         0.         0.         0.         0.         0.\n",
            "  0.         0.         0.22745098 0.99607843 0.99607843 0.03529412\n",
            "  0.         0.         0.         0.         0.         0.\n",
            "  0.4117647  0.99607843 0.35686275 0.         0.         0.\n",
            "  0.         0.         0.         0.        ]\n",
            " [0.         0.         0.         0.         0.         0.\n",
            "  0.         0.         0.01960784 0.85882354 0.99607843 0.03529412\n",
            "  0.         0.         0.         0.         0.         0.09411765\n",
            "  0.9019608  0.99607843 0.09411765 0.         0.         0.\n",
            "  0.         0.         0.         0.        ]\n",
            " [0.         0.         0.         0.         0.         0.\n",
            "  0.         0.         0.         0.84705883 0.99607843 0.03529412\n",
            "  0.         0.         0.         0.         0.         0.32941177\n",
            "  0.99607843 0.9843137  0.09019608 0.         0.         0.\n",
            "  0.         0.         0.         0.        ]\n",
            " [0.         0.         0.         0.         0.         0.\n",
            "  0.         0.         0.         0.84705883 0.99607843 0.14117648\n",
            "  0.         0.         0.         0.         0.08627451 0.8156863\n",
            "  0.9843137  0.36862746 0.         0.         0.         0.\n",
            "  0.         0.         0.         0.        ]\n",
            " [0.         0.         0.         0.         0.         0.\n",
            "  0.         0.         0.         0.5058824  0.99607843 0.47058824\n",
            "  0.         0.         0.         0.01176471 0.54901963 0.99607843\n",
            "  0.8980392  0.         0.         0.         0.         0.\n",
            "  0.         0.         0.         0.        ]\n",
            " [0.         0.         0.         0.         0.         0.\n",
            "  0.         0.         0.         0.3254902  0.99607843 0.87058824\n",
            "  0.06666667 0.         0.         0.35686275 0.99607843 0.9254902\n",
            "  0.20784314 0.         0.         0.         0.         0.\n",
            "  0.         0.         0.         0.        ]\n",
            " [0.         0.         0.         0.         0.         0.\n",
            "  0.         0.         0.         0.07058824 0.92156863 0.99607843\n",
            "  0.5254902  0.08235294 0.46666667 0.92941177 0.99607843 0.4862745\n",
            "  0.         0.         0.         0.         0.         0.\n",
            "  0.         0.         0.         0.        ]\n",
            " [0.         0.         0.         0.         0.         0.\n",
            "  0.         0.         0.         0.         0.20784314 0.9764706\n",
            "  0.99607843 0.91764706 0.9882353  0.99607843 0.6745098  0.01176471\n",
            "  0.         0.         0.         0.         0.         0.\n",
            "  0.         0.         0.         0.        ]\n",
            " [0.         0.         0.         0.         0.         0.\n",
            "  0.         0.         0.         0.         0.         0.45490196\n",
            "  0.92941177 0.99607843 0.99607843 0.52156866 0.07843138 0.\n",
            "  0.         0.         0.         0.         0.         0.\n",
            "  0.         0.         0.         0.        ]\n",
            " [0.         0.         0.         0.         0.         0.\n",
            "  0.         0.         0.         0.         0.         0.\n",
            "  0.         0.         0.         0.         0.         0.\n",
            "  0.         0.         0.         0.         0.         0.\n",
            "  0.         0.         0.         0.        ]\n",
            " [0.         0.         0.         0.         0.         0.\n",
            "  0.         0.         0.         0.         0.         0.\n",
            "  0.         0.         0.         0.         0.         0.\n",
            "  0.         0.         0.         0.         0.         0.\n",
            "  0.         0.         0.         0.        ]\n",
            " [0.         0.         0.         0.         0.         0.\n",
            "  0.         0.         0.         0.         0.         0.\n",
            "  0.         0.         0.         0.         0.         0.\n",
            "  0.         0.         0.         0.         0.         0.\n",
            "  0.         0.         0.         0.        ]]\n"
          ]
        }
      ]
    },
    {
      "metadata": {
        "id": "YHtEsnhlIwfk",
        "colab": {
          "base_uri": "https://localhost:8080/"
        },
        "outputId": "bf83e8fc-6c6f-467c-9da1-737013f41614"
      },
      "cell_type": "code",
      "source": [
        "print(\"Shape of trainXnormalized[0] is \"+ str(trainXnormalized.shape[0]))\n",
        "\n",
        "\n",
        "print( \"\\n Shape of trainXnormalized is \"+ str(trainXnormalized.shape) )\n",
        "\n",
        "trainXready = trainXnormalized.reshape( trainXnormalized.shape[0], 28*28 )\n",
        "\n",
        "testXready = testXnormalized.reshape( testXnormalized.shape[0], 28*28 )\n",
        "\n",
        "print( \" Shape of trainXready is      \"+ str(trainXready.shape) )\n",
        "\n",
        "\n",
        "\n"
      ],
      "execution_count": 8,
      "outputs": [
        {
          "output_type": "stream",
          "name": "stdout",
          "text": [
            "Shape of trainXnormalized[0] is 60000\n",
            "\n",
            " Shape of trainXnormalized is (60000, 28, 28)\n",
            " Shape of trainXready is      (60000, 784)\n"
          ]
        }
      ]
    },
    {
      "metadata": {
        "id": "5f5enbzldCZi"
      },
      "cell_type": "markdown",
      "source": [
        "#3. Define the network architecture\n",
        "\n"
      ]
    },
    {
      "metadata": {
        "id": "4y-n-9slLLJg"
      },
      "cell_type": "code",
      "source": [
        "#Step 3: Define the network architecture\n",
        "network = models.Sequential(name='Karunya')\n",
        "layer1 = layers.Dense(512, input_shape=(28*28,), activation='relu')\n",
        "network.add(layer1)\n",
        "layer2 = layers.Dense(128, activation='relu')\n",
        "network.add(layer2)\n",
        "layer3 = layers.Dense(10, activation='softmax')\n",
        "network.add(layer3)\n"
      ],
      "execution_count": 9,
      "outputs": []
    },
    {
      "metadata": {
        "id": "BW4OW6RHLQhv",
        "colab": {
          "base_uri": "https://localhost:8080/"
        },
        "outputId": "d05d0f63-aa0c-477c-d11e-e3d7b0fc383b"
      },
      "cell_type": "code",
      "source": [
        "print(network.name)\n",
        "\n",
        "print(\"Here is architecture of my neural network..  \")\n",
        "\n",
        "print(network.summary())"
      ],
      "execution_count": 10,
      "outputs": [
        {
          "output_type": "stream",
          "name": "stdout",
          "text": [
            "Karunya\n",
            "Here is architecture of my neural network..  \n",
            "Model: \"Karunya\"\n",
            "_________________________________________________________________\n",
            " Layer (type)                Output Shape              Param #   \n",
            "=================================================================\n",
            " dense (Dense)               (None, 512)               401920    \n",
            "                                                                 \n",
            " dense_1 (Dense)             (None, 128)               65664     \n",
            "                                                                 \n",
            " dense_2 (Dense)             (None, 10)                1290      \n",
            "                                                                 \n",
            "=================================================================\n",
            "Total params: 468,874\n",
            "Trainable params: 468,874\n",
            "Non-trainable params: 0\n",
            "_________________________________________________________________\n",
            "None\n"
          ]
        }
      ]
    },
    {
      "metadata": {
        "id": "HNepGJblLo8c",
        "colab": {
          "base_uri": "https://localhost:8080/"
        },
        "outputId": "64aee6d7-6617-43e6-823d-d42e0b553f02"
      },
      "cell_type": "code",
      "source": [
        "# Plot model graph\n",
        "\n",
        "print('This is neural network model is a Fully Connected Neural network consisting of 3 Dense layers')\n",
        "print('Input is a array of 784 elements ')\n",
        "print('Output is one of 10 classes ')\n",
        "\n",
        "print(network.name)\n",
        "\n",
        "print(network)\n",
        "\n",
        "\n",
        "\n"
      ],
      "execution_count": 11,
      "outputs": [
        {
          "output_type": "stream",
          "name": "stdout",
          "text": [
            "This is neural network model is a Fully Connected Neural network consisting of 3 Dense layers\n",
            "Input is a array of 784 elements \n",
            "Output is one of 10 classes \n",
            "Karunya\n",
            "<keras.engine.sequential.Sequential object at 0x7987a362ec50>\n"
          ]
        }
      ]
    },
    {
      "metadata": {
        "id": "lEkaktnRPVrJ",
        "outputId": "0bd6383d-4337-43f4-a8b3-488e5c482b6f",
        "colab": {
          "base_uri": "https://localhost:8080/",
          "height": 340
        }
      },
      "cell_type": "code",
      "source": [
        "from google.colab import files\n",
        "#files.download('my1stmodel.png')"
      ],
      "execution_count": 12,
      "outputs": [
        {
          "output_type": "error",
          "ename": "FileNotFoundError",
          "evalue": "ignored",
          "traceback": [
            "\u001b[0;31m---------------------------------------------------------------------------\u001b[0m",
            "\u001b[0;31mFileNotFoundError\u001b[0m                         Traceback (most recent call last)",
            "\u001b[0;32m<ipython-input-12-d8d79acb4982>\u001b[0m in \u001b[0;36m<cell line: 2>\u001b[0;34m()\u001b[0m\n\u001b[1;32m      1\u001b[0m \u001b[0;32mfrom\u001b[0m \u001b[0mgoogle\u001b[0m\u001b[0;34m.\u001b[0m\u001b[0mcolab\u001b[0m \u001b[0;32mimport\u001b[0m \u001b[0mfiles\u001b[0m\u001b[0;34m\u001b[0m\u001b[0;34m\u001b[0m\u001b[0m\n\u001b[0;32m----> 2\u001b[0;31m \u001b[0mfiles\u001b[0m\u001b[0;34m.\u001b[0m\u001b[0mdownload\u001b[0m\u001b[0;34m(\u001b[0m\u001b[0;34m'my1stmodel.png'\u001b[0m\u001b[0;34m)\u001b[0m\u001b[0;34m\u001b[0m\u001b[0;34m\u001b[0m\u001b[0m\n\u001b[0m",
            "\u001b[0;32m/usr/local/lib/python3.10/dist-packages/google/colab/files.py\u001b[0m in \u001b[0;36mdownload\u001b[0;34m(filename)\u001b[0m\n\u001b[1;32m    223\u001b[0m   \u001b[0;32mif\u001b[0m \u001b[0;32mnot\u001b[0m \u001b[0m_os\u001b[0m\u001b[0;34m.\u001b[0m\u001b[0mpath\u001b[0m\u001b[0;34m.\u001b[0m\u001b[0mexists\u001b[0m\u001b[0;34m(\u001b[0m\u001b[0mfilename\u001b[0m\u001b[0;34m)\u001b[0m\u001b[0;34m:\u001b[0m\u001b[0;34m\u001b[0m\u001b[0;34m\u001b[0m\u001b[0m\n\u001b[1;32m    224\u001b[0m     \u001b[0mmsg\u001b[0m \u001b[0;34m=\u001b[0m \u001b[0;34m'Cannot find file: {}'\u001b[0m\u001b[0;34m.\u001b[0m\u001b[0mformat\u001b[0m\u001b[0;34m(\u001b[0m\u001b[0mfilename\u001b[0m\u001b[0;34m)\u001b[0m\u001b[0;34m\u001b[0m\u001b[0;34m\u001b[0m\u001b[0m\n\u001b[0;32m--> 225\u001b[0;31m     \u001b[0;32mraise\u001b[0m \u001b[0mFileNotFoundError\u001b[0m\u001b[0;34m(\u001b[0m\u001b[0mmsg\u001b[0m\u001b[0;34m)\u001b[0m  \u001b[0;31m# pylint: disable=undefined-variable\u001b[0m\u001b[0;34m\u001b[0m\u001b[0;34m\u001b[0m\u001b[0m\n\u001b[0m\u001b[1;32m    226\u001b[0m \u001b[0;34m\u001b[0m\u001b[0m\n\u001b[1;32m    227\u001b[0m   \u001b[0mcomm_manager\u001b[0m \u001b[0;34m=\u001b[0m \u001b[0m_IPython\u001b[0m\u001b[0;34m.\u001b[0m\u001b[0mget_ipython\u001b[0m\u001b[0;34m(\u001b[0m\u001b[0;34m)\u001b[0m\u001b[0;34m.\u001b[0m\u001b[0mkernel\u001b[0m\u001b[0;34m.\u001b[0m\u001b[0mcomm_manager\u001b[0m\u001b[0;34m\u001b[0m\u001b[0;34m\u001b[0m\u001b[0m\n",
            "\u001b[0;31mFileNotFoundError\u001b[0m: Cannot find file: my1stmodel.png"
          ]
        }
      ]
    },
    {
      "metadata": {
        "id": "cKWqPm6ldVTe"
      },
      "cell_type": "markdown",
      "source": [
        "#4. Choose the loss funtion"
      ]
    },
    {
      "metadata": {
        "id": "fsrdAyo5QoGY"
      },
      "cell_type": "code",
      "source": [
        "#Step 4: Define the metrics, optimizers, loss function, and Complie the model\n",
        "network.compile(optimizer='rmsprop', loss='categorical_crossentropy', metrics=['accuracy'])\n"
      ],
      "execution_count": 13,
      "outputs": []
    },
    {
      "metadata": {
        "id": "xPE41erDdeyF"
      },
      "cell_type": "code",
      "source": [
        "#5. Train the network"
      ],
      "execution_count": 14,
      "outputs": []
    },
    {
      "metadata": {
        "id": "gHHI14JJdmVx"
      },
      "cell_type": "markdown",
      "source": [
        "# 5. Train the network\n",
        "\n",
        "##Tip 1 : myModel.fit( X, Y ) trains the neural network with dataset (X, Y ).\n",
        "It returns a log history, which is a log of values in each iteration"
      ]
    },
    {
      "metadata": {
        "id": "Jd21BCvUQrrr",
        "colab": {
          "base_uri": "https://localhost:8080/"
        },
        "outputId": "a2d00a98-29f9-4cc6-c9e6-879c8375c530"
      },
      "cell_type": "code",
      "source": [
        "#Step 5: Train the network\n",
        "history = network.fit( trainXready, trainYready, batch_size=32, epochs=10)\n"
      ],
      "execution_count": 15,
      "outputs": [
        {
          "output_type": "stream",
          "name": "stdout",
          "text": [
            "Epoch 1/10\n",
            "1875/1875 [==============================] - 17s 8ms/step - loss: 0.1927 - accuracy: 0.9417\n",
            "Epoch 2/10\n",
            "1875/1875 [==============================] - 15s 8ms/step - loss: 0.0836 - accuracy: 0.9757\n",
            "Epoch 3/10\n",
            "1875/1875 [==============================] - 16s 8ms/step - loss: 0.0626 - accuracy: 0.9828\n",
            "Epoch 4/10\n",
            "1875/1875 [==============================] - 15s 8ms/step - loss: 0.0487 - accuracy: 0.9863\n",
            "Epoch 5/10\n",
            "1875/1875 [==============================] - 16s 9ms/step - loss: 0.0371 - accuracy: 0.9894\n",
            "Epoch 6/10\n",
            "1875/1875 [==============================] - 15s 8ms/step - loss: 0.0293 - accuracy: 0.9915\n",
            "Epoch 7/10\n",
            "1875/1875 [==============================] - 15s 8ms/step - loss: 0.0241 - accuracy: 0.9931\n",
            "Epoch 8/10\n",
            "1875/1875 [==============================] - 16s 8ms/step - loss: 0.0197 - accuracy: 0.9946\n",
            "Epoch 9/10\n",
            "1875/1875 [==============================] - 15s 8ms/step - loss: 0.0151 - accuracy: 0.9958\n",
            "Epoch 10/10\n",
            "1875/1875 [==============================] - 16s 9ms/step - loss: 0.0132 - accuracy: 0.9962\n"
          ]
        }
      ]
    },
    {
      "metadata": {
        "id": "JgbZ34bwQwDw",
        "colab": {
          "base_uri": "https://localhost:8080/"
        },
        "outputId": "4569a105-42c6-4891-8853-fa8421b328bb"
      },
      "cell_type": "code",
      "source": [
        "#Step 6: Evaluate the network\n",
        "metrics_test_loss, metrics_test_accuracy = network.evaluate(testXready, testYready)\n",
        "\n",
        "print(\" Loss on test data is: \" + str(metrics_test_loss))\n",
        "print(\" Accuracy of my nerual network on test data in percentage is : \" + str(metrics_test_accuracy* 100))\n",
        "\n"
      ],
      "execution_count": 16,
      "outputs": [
        {
          "output_type": "stream",
          "name": "stdout",
          "text": [
            "313/313 [==============================] - 1s 3ms/step - loss: 0.1026 - accuracy: 0.9814\n",
            " Loss on test data is: 0.1025770902633667\n",
            " Accuracy of my nerual network on test data in percentage is : 98.14000129699707\n"
          ]
        }
      ]
    },
    {
      "metadata": {
        "id": "tBuUVJrUeJFu"
      },
      "cell_type": "markdown",
      "source": [
        "# 6. Predict what class a image belongs to\n",
        "\n",
        "### Tip 1. myModel.predict() accepts a array"
      ]
    },
    {
      "metadata": {
        "id": "AfHQG05NRc0J",
        "colab": {
          "base_uri": "https://localhost:8080/",
          "height": 593
        },
        "outputId": "bc790f22-3c41-4581-9003-0613f35349d9"
      },
      "cell_type": "code",
      "source": [
        "import numpy as np\n",
        "\n",
        "#Step 7: Predict\n",
        "\n",
        "\n",
        "predictedResults = network.predict(testXready[1:2])\n",
        "print(\"Predicted Results: \" + str(predictedResults))\n",
        "predictedclass = predictedResults.argmax()\n",
        "\n",
        "\n",
        "predictedResults = np.around(predictedResults)\n",
        "print(\"Predicted Results: \" + str(predictedResults))\n",
        "\n",
        "\n",
        "print(\"Ground Truth OHE : \" + str(testYready[1:2]))\n",
        "\n",
        "print(\"Ground Truth :      \" + str(testY[1:2]))\n",
        "\n",
        "print(\"Predicited class is : \" + str(predictedclass))\n",
        "\n",
        "print(\"My nerual network predicts the below image as : \" + str(predictedclass))\n",
        "\n",
        "\n",
        "pyplot.imshow(testX[1])\n",
        "pyplot.show()\n"
      ],
      "execution_count": 17,
      "outputs": [
        {
          "output_type": "stream",
          "name": "stdout",
          "text": [
            "1/1 [==============================] - 0s 93ms/step\n",
            "Predicted Results: [[3.4291487e-21 1.8413552e-12 1.0000000e+00 1.6339706e-14 1.5103475e-27\n",
            "  1.3237937e-24 7.3562090e-22 7.9584602e-27 3.9264805e-17 1.7942938e-27]]\n",
            "Predicted Results: [[0. 0. 1. 0. 0. 0. 0. 0. 0. 0.]]\n",
            "Ground Truth OHE : [[0. 0. 1. 0. 0. 0. 0. 0. 0. 0.]]\n",
            "Ground Truth :      [2]\n",
            "Predicited class is : 2\n",
            "My nerual network predicts the below image as : 2\n"
          ]
        },
        {
          "output_type": "display_data",
          "data": {
            "text/plain": [
              "<Figure size 640x480 with 1 Axes>"
            ],
            "image/png": "[encoded data removed]"
          },
          "metadata": {}
        }
      ]
    },
    {
      "metadata": {
        "id": "NN6BcMUGSyZe",
        "colab": {
          "base_uri": "https://localhost:8080/",
          "height": 593
        },
        "outputId": "57b277fe-3b9f-4297-a896-8df10abdab85"
      },
      "cell_type": "code",
      "source": [
        "\n",
        "#Step 7: Predict\n",
        "\n",
        "hereismyimageindextopredict = 100\n",
        "\n",
        "\n",
        "predictedResults = network.predict(testXready[hereismyimageindextopredict:hereismyimageindextopredict+1])\n",
        "print(\"Predicted Results: \" + str(predictedResults))\n",
        "predictedclass = predictedResults.argmax()\n",
        "\n",
        "\n",
        "predictedResults = np.around(predictedResults)\n",
        "print(\"Predicted Results: \" + str(predictedResults))\n",
        "\n",
        "\n",
        "print(\"Ground Truth OHE : \" + str(testYready[hereismyimageindextopredict:hereismyimageindextopredict+1]))\n",
        "\n",
        "print(\"Ground Truth :      \" + str(testY[hereismyimageindextopredict:hereismyimageindextopredict+1]))\n",
        "\n",
        "print(\"Predicited class is : \" + str(predictedclass))\n",
        "\n",
        "print(\"My nerual network predicts the below image as : \" + str(predictedclass))\n",
        "\n",
        "\n",
        "pyplot.imshow(testX[hereismyimageindextopredict])\n",
        "pyplot.show()\n"
      ],
      "execution_count": 18,
      "outputs": [
        {
          "output_type": "stream",
          "name": "stdout",
          "text": [
            "1/1 [==============================] - 0s 23ms/step\n",
            "Predicted Results: [[1.6105558e-12 4.6700508e-19 9.3771766e-20 7.6687928e-22 5.0150571e-17\n",
            "  1.1307682e-13 1.0000000e+00 2.4497940e-22 6.5488636e-15 4.5434536e-22]]\n",
            "Predicted Results: [[0. 0. 0. 0. 0. 0. 1. 0. 0. 0.]]\n",
            "Ground Truth OHE : [[0. 0. 0. 0. 0. 0. 1. 0. 0. 0.]]\n",
            "Ground Truth :      [6]\n",
            "Predicited class is : 6\n",
            "My nerual network predicts the below image as : 6\n"
          ]
        },
        {
          "output_type": "display_data",
          "data": {
            "text/plain": [
              "<Figure size 640x480 with 1 Axes>"
            ],
            "image/png": "[encoded data removed]"
          },
          "metadata": {}
        }
      ]
    },
    {
      "metadata": {
        "id": "MYNZN55BTgD6",
        "colab": {
          "base_uri": "https://localhost:8080/",
          "height": 472
        },
        "outputId": "3f03c0b7-5b2e-4256-a784-7face2222dce"
      },
      "cell_type": "code",
      "source": [
        "import matplotlib.pyplot as plt\n",
        "\n",
        "plt.plot(history.history['accuracy'])\n",
        "plt.title('Model accuracy')\n",
        "plt.ylabel('Accuracy')\n",
        "plt.xlabel('Epoch')\n",
        "plt.legend(['Train'], loc='upper left')\n",
        "plt.show()"
      ],
      "execution_count": 19,
      "outputs": [
        {
          "output_type": "display_data",
          "data": {
            "text/plain": [
              "<Figure size 640x480 with 1 Axes>"
            ],
            "image/png": "[encoded data removed]"
          },
          "metadata": {}
        }
      ]
    },
    {
      "metadata": {
        "id": "iquI2z5JT_as",
        "colab": {
          "base_uri": "https://localhost:8080/",
          "height": 472
        },
        "outputId": "f0915343-ad9e-4cec-d3cf-6f91ba3f500c"
      },
      "cell_type": "code",
      "source": [
        "# Plot training & validation loss values\n",
        "plt.plot(history.history['loss'])\n",
        "plt.title('Model loss')\n",
        "plt.ylabel('Loss')\n",
        "plt.xlabel('Epoch')\n",
        "plt.legend(['Train'], loc='upper left')\n",
        "plt.show()"
      ],
      "execution_count": 20,
      "outputs": [
        {
          "output_type": "display_data",
          "data": {
            "text/plain": [
              "<Figure size 640x480 with 1 Axes>"
            ],
            "image/png": "[encoded data removed]"
          },
          "metadata": {}
        }
      ]
    }
  ]
}